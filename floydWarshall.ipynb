{
 "cells": [
  {
   "cell_type": "code",
   "execution_count": 65,
   "id": "3df0eb76",
   "metadata": {},
   "outputs": [],
   "source": [
    "import math\n",
    "INF = math.inf"
   ]
  },
  {
   "cell_type": "code",
   "execution_count": 66,
   "id": "37e5abb1",
   "metadata": {},
   "outputs": [],
   "source": [
    "def floydWarshall(graph): \n",
    "    print('D( 0 ):',graph, '\\n')\n",
    "    n = len(graph)\n",
    "    dist=graph\n",
    "    for k in range(n):\n",
    "        for i in range(n):\n",
    "            for j in range(n): \n",
    "                dist[i][j] = min(dist[i][j] ,dist[i][k]+ dist[k][j])\n",
    "        print('D(', k + 1, '):',dist, '\\n')\n",
    "    return dist"
   ]
  },
  {
   "cell_type": "code",
   "execution_count": 67,
   "id": "56bf6149",
   "metadata": {},
   "outputs": [
    {
     "name": "stdout",
     "output_type": "stream",
     "text": [
      "D( 0 ): [[0, inf, inf, inf, -1, inf], [1, 0, inf, 2, inf, inf], [inf, 2, 0, inf, inf, -8], [-4, inf, inf, 0, 3, inf], [inf, 7, inf, inf, 0, inf], [inf, 5, 10, inf, inf, 0]] \n",
      "\n",
      "D( 1 ): [[0, inf, inf, inf, -1, inf], [1, 0, inf, 2, 0, inf], [inf, 2, 0, inf, inf, -8], [-4, inf, inf, 0, -5, inf], [inf, 7, inf, inf, 0, inf], [inf, 5, 10, inf, inf, 0]] \n",
      "\n",
      "D( 2 ): [[0, inf, inf, inf, -1, inf], [1, 0, inf, 2, 0, inf], [3, 2, 0, 4, 2, -8], [-4, inf, inf, 0, -5, inf], [8, 7, inf, 9, 0, inf], [6, 5, 10, 7, 5, 0]] \n",
      "\n",
      "D( 3 ): [[0, inf, inf, inf, -1, inf], [1, 0, inf, 2, 0, inf], [3, 2, 0, 4, 2, -8], [-4, inf, inf, 0, -5, inf], [8, 7, inf, 9, 0, inf], [6, 5, 10, 7, 5, 0]] \n",
      "\n",
      "D( 4 ): [[0, inf, inf, inf, -1, inf], [-2, 0, inf, 2, -3, inf], [0, 2, 0, 4, -1, -8], [-4, inf, inf, 0, -5, inf], [5, 7, inf, 9, 0, inf], [3, 5, 10, 7, 2, 0]] \n",
      "\n",
      "D( 5 ): [[0, 6, inf, 8, -1, inf], [-2, 0, inf, 2, -3, inf], [0, 2, 0, 4, -1, -8], [-4, 2, inf, 0, -5, inf], [5, 7, inf, 9, 0, inf], [3, 5, 10, 7, 2, 0]] \n",
      "\n",
      "D( 6 ): [[0, 6, inf, 8, -1, inf], [-2, 0, inf, 2, -3, inf], [-5, -3, 0, -1, -6, -8], [-4, 2, inf, 0, -5, inf], [5, 7, inf, 9, 0, inf], [3, 5, 10, 7, 2, 0]] \n",
      "\n"
     ]
    },
    {
     "data": {
      "text/plain": [
       "[[0, 6, inf, 8, -1, inf],\n",
       " [-2, 0, inf, 2, -3, inf],\n",
       " [-5, -3, 0, -1, -6, -8],\n",
       " [-4, 2, inf, 0, -5, inf],\n",
       " [5, 7, inf, 9, 0, inf],\n",
       " [3, 5, 10, 7, 2, 0]]"
      ]
     },
     "execution_count": 67,
     "metadata": {},
     "output_type": "execute_result"
    }
   ],
   "source": [
    "graph = [[0, INF, INF, INF, -1, INF],\n",
    "             [1, 0, INF, 2, INF, INF],\n",
    "             [INF, 2, 0, INF, INF, -8],\n",
    "             [-4, INF, INF, 0, 3 , INF],\n",
    "             [INF, 7 , INF, INF, 0, INF],\n",
    "             [INF, 5 , 10, INF, INF, 0]]\n",
    "\n",
    "\n",
    "floydWarshall(graph)"
   ]
  },
  {
   "cell_type": "code",
   "execution_count": 68,
   "id": "d110ed67",
   "metadata": {},
   "outputs": [
    {
     "name": "stdout",
     "output_type": "stream",
     "text": [
      "D( 0 ): [[0, 3, inf, 5], [2, 0, inf, 4], [inf, 1, 0, inf], [inf, inf, 2, 0]] \n",
      "\n",
      "D( 1 ): [[0, 3, inf, 5], [2, 0, inf, 4], [inf, 1, 0, inf], [inf, inf, 2, 0]] \n",
      "\n",
      "D( 2 ): [[0, 3, inf, 5], [2, 0, inf, 4], [3, 1, 0, 5], [inf, inf, 2, 0]] \n",
      "\n",
      "D( 3 ): [[0, 3, inf, 5], [2, 0, inf, 4], [3, 1, 0, 5], [5, 3, 2, 0]] \n",
      "\n",
      "D( 4 ): [[0, 3, 7, 5], [2, 0, 6, 4], [3, 1, 0, 5], [5, 3, 2, 0]] \n",
      "\n"
     ]
    },
    {
     "data": {
      "text/plain": [
       "[[0, 3, 7, 5], [2, 0, 6, 4], [3, 1, 0, 5], [5, 3, 2, 0]]"
      ]
     },
     "execution_count": 68,
     "metadata": {},
     "output_type": "execute_result"
    }
   ],
   "source": [
    "graph =[[0, 3 , INF, 5],\n",
    "       [2,0, INF, 4],\n",
    "       [INF, 1 , 0 , INF],\n",
    "        [INF, INF, 2, 0]]\n",
    "floydWarshall(graph)\n"
   ]
  },
  {
   "cell_type": "code",
   "execution_count": 69,
   "id": "f08271a7",
   "metadata": {},
   "outputs": [
    {
     "name": "stdout",
     "output_type": "stream",
     "text": [
      "D( 0 ): [[0, 3, 8, inf, -4], [inf, 0, inf, 1, 7], [inf, 4, 0, -5, inf], [2, inf, inf, 0, inf], [inf, inf, inf, 6, 0]] \n",
      "\n",
      "D( 1 ): [[0, 3, 8, inf, -4], [inf, 0, inf, 1, 7], [inf, 4, 0, -5, inf], [2, 5, 10, 0, -2], [inf, inf, inf, 6, 0]] \n",
      "\n",
      "D( 2 ): [[0, 3, 8, 4, -4], [inf, 0, inf, 1, 7], [inf, 4, 0, -5, 11], [2, 5, 10, 0, -2], [inf, inf, inf, 6, 0]] \n",
      "\n",
      "D( 3 ): [[0, 3, 8, 3, -4], [inf, 0, inf, 1, 7], [inf, 4, 0, -5, 11], [2, 5, 10, 0, -2], [inf, inf, inf, 6, 0]] \n",
      "\n",
      "D( 4 ): [[0, 3, 8, 3, -4], [3, 0, 11, 1, -1], [-3, 0, 0, -5, -7], [2, 5, 10, 0, -2], [8, 11, 16, 6, 0]] \n",
      "\n",
      "D( 5 ): [[0, 3, 8, 2, -4], [3, 0, 11, 1, -1], [-3, 0, 0, -5, -7], [2, 5, 10, 0, -2], [8, 11, 16, 6, 0]] \n",
      "\n"
     ]
    },
    {
     "data": {
      "text/plain": [
       "[[0, 3, 8, 2, -4],\n",
       " [3, 0, 11, 1, -1],\n",
       " [-3, 0, 0, -5, -7],\n",
       " [2, 5, 10, 0, -2],\n",
       " [8, 11, 16, 6, 0]]"
      ]
     },
     "execution_count": 69,
     "metadata": {},
     "output_type": "execute_result"
    }
   ],
   "source": [
    "graph =[[0, 3 , 8 , INF, -4],\n",
    "       [INF,0, INF,1, 7],\n",
    "       [INF, 4 , 0 , -5, INF],\n",
    "        [2, INF, INF, 0, INF],\n",
    "       [INF, INF, INF, 6, 0]]\n",
    "floydWarshall(graph)"
   ]
  },
  {
   "cell_type": "code",
   "execution_count": null,
   "id": "b43e7dfe",
   "metadata": {},
   "outputs": [],
   "source": []
  },
  {
   "cell_type": "code",
   "execution_count": null,
   "id": "edf8998e",
   "metadata": {},
   "outputs": [],
   "source": []
  }
 ],
 "metadata": {
  "kernelspec": {
   "display_name": "Python 3 (ipykernel)",
   "language": "python",
   "name": "python3"
  },
  "language_info": {
   "codemirror_mode": {
    "name": "ipython",
    "version": 3
   },
   "file_extension": ".py",
   "mimetype": "text/x-python",
   "name": "python",
   "nbconvert_exporter": "python",
   "pygments_lexer": "ipython3",
   "version": "3.9.12"
  }
 },
 "nbformat": 4,
 "nbformat_minor": 5
}
