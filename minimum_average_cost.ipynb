{
 "cells": [
  {
   "cell_type": "code",
   "execution_count": 4,
   "id": "a12be85e",
   "metadata": {},
   "outputs": [],
   "source": [
    "#we have to sort the time of completion for every tasks in assending order\n",
    "def merge_sort(A, left, right):\n",
    "    if left < right:  \n",
    "        mid  = left + (right - left) //2 \n",
    "        #print(A[left: right + 1], left, mid, right)\n",
    "        merge_sort(A, left, mid )\n",
    "        merge_sort(A, mid + 1, right)\n",
    "        answer = merge(A, left, mid, right)\n",
    "        return answer\n",
    "\n",
    "def merge(arr, l, m, r):\n",
    "    n1 = m - l + 1\n",
    "    n2 = r - m\n",
    "    L = [0] * (n1)\n",
    "    R = [0] * (n2)\n",
    "\n",
    "    for i in range(0, n1):\n",
    "        L[i] = arr[l + i]\n",
    " \n",
    "    for j in range(0, n2):\n",
    "        R[j] = arr[m + 1 + j]\n",
    "\n",
    "    i = 0     \n",
    "    j = 0     \n",
    "    k = l     \n",
    " \n",
    "    while i < n1 and j < n2:\n",
    "        if L[i] <= R[j]:\n",
    "            arr[k] = L[i]\n",
    "            i += 1\n",
    "        else:\n",
    "            arr[k] = R[j]\n",
    "            j += 1\n",
    "        k += 1\n",
    "    \n",
    "    while i < n1:\n",
    "        arr[k] = L[i]\n",
    "        i += 1\n",
    "        k += 1\n",
    " \n",
    "    \n",
    "    while j < n2:\n",
    "        arr[k] = R[j]\n",
    "        j += 1\n",
    "        k += 1\n",
    "#     print(arr)\n",
    "    return arr"
   ]
  },
  {
   "cell_type": "code",
   "execution_count": 28,
   "id": "26bc3aeb",
   "metadata": {},
   "outputs": [],
   "source": [
    "#main function to compute the minimum average cost\n",
    "\n",
    "def min_avg_cost(list_of_time):\n",
    "    length = len(list_of_time)\n",
    "    n = length - 1\n",
    "    sorted_list_of_time = merge_sort(list_of_time, 0 , n)\n",
    "    memo = []\n",
    "    cost = 0\n",
    "    \n",
    "    for i in range(0, length):\n",
    "        cost = sorted_list_of_time[i] + cost\n",
    "        memo.append(cost)\n",
    "        \n",
    "    print('Completion time for each tasks:',  memo)\n",
    "    minimum_avg_cost = sum(memo)/length\n",
    "    \n",
    "    return minimum_avg_cost"
   ]
  },
  {
   "cell_type": "code",
   "execution_count": 29,
   "id": "82427f5c",
   "metadata": {},
   "outputs": [
    {
     "name": "stdout",
     "output_type": "stream",
     "text": [
      "Completion time for each tasks: [3, 8, 14]\n",
      "Minimum average completion time is : 8.333333333333334\n"
     ]
    }
   ],
   "source": [
    "print('Minimum average completion time is :', min_avg_cost([3, 6, 5]))"
   ]
  },
  {
   "cell_type": "code",
   "execution_count": null,
   "id": "4a52a8f0",
   "metadata": {},
   "outputs": [],
   "source": []
  },
  {
   "cell_type": "code",
   "execution_count": null,
   "id": "36668269",
   "metadata": {},
   "outputs": [],
   "source": []
  }
 ],
 "metadata": {
  "kernelspec": {
   "display_name": "Python 3 (ipykernel)",
   "language": "python",
   "name": "python3"
  },
  "language_info": {
   "codemirror_mode": {
    "name": "ipython",
    "version": 3
   },
   "file_extension": ".py",
   "mimetype": "text/x-python",
   "name": "python",
   "nbconvert_exporter": "python",
   "pygments_lexer": "ipython3",
   "version": "3.9.12"
  }
 },
 "nbformat": 4,
 "nbformat_minor": 5
}
