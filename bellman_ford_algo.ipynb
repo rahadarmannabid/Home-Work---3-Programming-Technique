{
 "cells": [
  {
   "cell_type": "code",
   "execution_count": 29,
   "id": "680a84d7",
   "metadata": {},
   "outputs": [],
   "source": [
    "def bellman_ford(graph, source):\n",
    "    # Here we prepare the distance and predecessor for each node\n",
    "    distance, predecessor = dict(), dict()\n",
    "    for node in graph:\n",
    "        distance[node], predecessor[node] = float('inf'), None\n",
    "#         print(distance, predecessor)\n",
    "    #we set the distance for source 0\n",
    "    distance[source] = 0\n",
    "\n",
    "    # Here we relaxed the edges\n",
    "    for _ in range(len(graph) - 1):\n",
    "        for node in graph:\n",
    "#             print(node, \"done\")\n",
    "            for neighbour in graph[node]:\n",
    "#                 print(neighbour)\n",
    "                # If the distance between the node and the neighbour is lower than the current, store it\n",
    "                if distance[neighbour] > distance[node] + graph[node][neighbour]:\n",
    "                    distance[neighbour], predecessor[neighbour] = distance[node] + graph[node][neighbour], node\n",
    "        print(distance, predecessor)\n",
    "\n",
    "    # Check for negative weight cycles\n",
    "    for node in graph:\n",
    "        for neighbour in graph[node]:\n",
    "            assert distance[neighbour] <= distance[node] + graph[node][neighbour], \"Negative weight cycle.\"\n",
    "    \n",
    " \n",
    "    return distance, predecessor\n",
    "    \n"
   ]
  },
  {
   "cell_type": "code",
   "execution_count": 30,
   "id": "755bd30b",
   "metadata": {},
   "outputs": [
    {
     "name": "stdout",
     "output_type": "stream",
     "text": [
      "{'s': 2, 't': inf, 'y': inf, 'x': 7, 'z': 0} {'s': 'z', 't': None, 'y': None, 'x': 'z', 'z': None}\n",
      "{'s': 2, 't': 4, 'y': 9, 'x': 6, 'z': 0} {'s': 'z', 't': 'x', 'y': 's', 'x': 'y', 'z': None}\n",
      "{'s': 2, 't': 4, 'y': 9, 'x': 6, 'z': 0} {'s': 'z', 't': 'x', 'y': 's', 'x': 'y', 'z': None}\n",
      "{'s': 2, 't': 4, 'y': 9, 'x': 6, 'z': 0} {'s': 'z', 't': 'x', 'y': 's', 'x': 'y', 'z': None}\n",
      "\n",
      " d values using Bellman_ford method:  {'s': 2, 't': 4, 'y': 9, 'x': 6, 'z': 0} \n",
      " π predecessor values using using Bellman_ford method: {'s': 'z', 't': 'x', 'y': 's', 'x': 'y', 'z': None}\n"
     ]
    }
   ],
   "source": [
    "if __name__ == '__main__':\n",
    "    graph = {\n",
    "        's': {'t': 6, 'y':  7},\n",
    "        't': {'x':  5, 'y':  8, 'z':  -4},\n",
    "        'y': {'x': -3 , 'z': 9},\n",
    "        'x': {'t':  -2},\n",
    "        'z': {'s': 2, 'x': 7}\n",
    "    }\n",
    "\n",
    "    distance, predecessor = bellman_ford(graph, source='z')\n",
    "    print(\"\\n d values using Bellman_ford method: \", distance , '\\n π predecessor values using using Bellman_ford method:', predecessor)\n"
   ]
  },
  {
   "cell_type": "code",
   "execution_count": null,
   "id": "f97d6a81",
   "metadata": {},
   "outputs": [],
   "source": []
  },
  {
   "cell_type": "code",
   "execution_count": null,
   "id": "79c3a031",
   "metadata": {},
   "outputs": [],
   "source": []
  }
 ],
 "metadata": {
  "kernelspec": {
   "display_name": "Python 3 (ipykernel)",
   "language": "python",
   "name": "python3"
  },
  "language_info": {
   "codemirror_mode": {
    "name": "ipython",
    "version": 3
   },
   "file_extension": ".py",
   "mimetype": "text/x-python",
   "name": "python",
   "nbconvert_exporter": "python",
   "pygments_lexer": "ipython3",
   "version": "3.9.12"
  }
 },
 "nbformat": 4,
 "nbformat_minor": 5
}
